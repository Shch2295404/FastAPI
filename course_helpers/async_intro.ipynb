{
 "cells": [
  {
   "cell_type": "code",
   "execution_count": 5,
   "metadata": {},
   "outputs": [],
   "source": [
    "import asyncio\n",
    "import time"
   ]
  },
  {
   "cell_type": "code",
   "execution_count": 35,
   "metadata": {},
   "outputs": [],
   "source": [
    "async def get_large_data():\n",
    "    print(\"START: large\")\n",
    "    await asyncio.sleep(3)\n",
    "    print(\"END: large\")\n",
    "\n",
    "async def get_small_data():\n",
    "    print(\"START: small\")\n",
    "    await asyncio.sleep(1)\n",
    "    print(\"END: small\")\n",
    "\n",
    "async def main1():\n",
    "    start = time.perf_counter()\n",
    "\n",
    "    await get_large_data()\n",
    "    await get_small_data()\n",
    "\n",
    "    end = time.perf_counter()\n",
    "    print(f\"Заняло времени: {end-start:.2f}\")\n",
    "\n",
    "async def main2():\n",
    "    start = time.perf_counter()\n",
    "\n",
    "    task1 = asyncio.create_task(get_large_data())\n",
    "    task2 = asyncio.create_task(get_small_data())\n",
    "    await task1\n",
    "    await task2\n",
    "\n",
    "    end = time.perf_counter()\n",
    "    print(f\"Заняло времени: {end-start:.2f}\")"
   ]
  },
  {
   "cell_type": "code",
   "execution_count": 38,
   "metadata": {},
   "outputs": [
    {
     "name": "stdout",
     "output_type": "stream",
     "text": [
      "START: large\n",
      "END: large\n",
      "START: small\n",
      "END: small\n",
      "Заняло времени: 4.02\n"
     ]
    }
   ],
   "source": [
    "await main1()"
   ]
  },
  {
   "cell_type": "code",
   "execution_count": 40,
   "metadata": {},
   "outputs": [
    {
     "name": "stdout",
     "output_type": "stream",
     "text": [
      "START: large\n",
      "START: small\n",
      "END: small\n",
      "END: large\n",
      "Заняло времени: 3.02\n"
     ]
    }
   ],
   "source": [
    "await main2()"
   ]
  }
 ],
 "metadata": {
  "kernelspec": {
   "display_name": "venv",
   "language": "python",
   "name": "python3"
  },
  "language_info": {
   "codemirror_mode": {
    "name": "ipython",
    "version": 3
   },
   "file_extension": ".py",
   "mimetype": "text/x-python",
   "name": "python",
   "nbconvert_exporter": "python",
   "pygments_lexer": "ipython3",
   "version": "3.9.13"
  }
 },
 "nbformat": 4,
 "nbformat_minor": 2
}
